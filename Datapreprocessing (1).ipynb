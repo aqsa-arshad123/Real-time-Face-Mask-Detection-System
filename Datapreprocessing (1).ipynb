{
  "cells": [
    {
      "cell_type": "code",
      "source": [
        "import cv2\n",
        "import os\n",
        "import numpy as np\n",
        "from keras.utils import to_categorical\n",
        "import zipfile\n",
        "\n",
        "# Specify the path to your ZIP file\n",
        "zip_file_path = 'images.zip'\n",
        "# Specify the directory where you want to extract the contents\n",
        "extracted_path = 'extracted_images'\n",
        "\n",
        "# Create a ZipFile object\n",
        "with zipfile.ZipFile(zip_file_path, 'r') as zip_ref:\n",
        "    # Extract all the contents into the specified directory\n",
        "    zip_ref.extractall(extracted_path)\n",
        "\n",
        "# List the contents of the extracted directory\n",
        "categories = os.listdir(extracted_path)\n",
        "labels = [i for i in range(len(categories))]\n",
        "\n",
        "# Now you can work with the extracted contents as needed\n",
        "label_dict = dict(zip(categories, labels))  # null dict\n",
        "\n",
        "print(label_dict)\n",
        "print(categories)\n",
        "print(labels)\n",
        "\n",
        "img_size = 100\n",
        "data = []   # images saved here\n",
        "target = []  # labels are saved here (0 for mask and 1 for no mask)\n",
        "\n",
        "for category in categories:\n",
        "    folder_path = os.path.join(extracted_path, category)\n",
        "    img_names = os.listdir(folder_path)\n",
        "\n",
        "    for img_name in img_names:\n",
        "        img_path = os.path.join(folder_path, img_name)\n",
        "        img = cv2.imread(img_path)\n",
        "\n",
        "        try:\n",
        "            gray = cv2.cvtColor(img, cv2.COLOR_BGR2GRAY)  # converting to gray color\n",
        "            # Converting the image into gray scale\n",
        "            resized = cv2.resize(gray, (img_size, img_size))  # resizing all images to 100 by 100\n",
        "            data.append(resized)  # appending resized images to the data list\n",
        "            target.append(label_dict[category])  # appending labels for images (0 or 1)\n",
        "\n",
        "        except Exception as e:\n",
        "            print('Exception:', e)  # missing images can raise exceptions\n",
        "\n",
        "if target:\n",
        "    data = np.array(data) / 255.0  # normalizing images in a range 0 to 1\n",
        "    data = np.reshape(data, (data.shape[0], img_size, img_size, 1))  # reshaping to a 4-dimensional array (1 since images are grayscale)\n",
        "    target = np.array(target)  # converting target to a numpy array\n",
        "\n",
        "    new_target = to_categorical(target)\n",
        "    np.save('data', data)\n",
        "    np.save('target', new_target)\n",
        "else:\n",
        "    print(\"No data found. Check if the images.zip file contains valid image data.\")\n"
      ],
      "metadata": {
        "colab": {
          "base_uri": "https://localhost:8080/"
        },
        "id": "k6aM1FREdTsq",
        "outputId": "407c2fb4-15ff-4879-a52d-fe01bb73712c"
      },
      "id": "k6aM1FREdTsq",
      "execution_count": 12,
      "outputs": [
        {
          "output_type": "stream",
          "name": "stdout",
          "text": [
            "{'images': 0}\n",
            "['images']\n",
            "[0]\n",
            "Exception: OpenCV(4.8.0) /io/opencv/modules/imgproc/src/color.cpp:182: error: (-215:Assertion failed) !_src.empty() in function 'cvtColor'\n",
            "\n",
            "Exception: OpenCV(4.8.0) /io/opencv/modules/imgproc/src/color.cpp:182: error: (-215:Assertion failed) !_src.empty() in function 'cvtColor'\n",
            "\n",
            "No data found. Check if the images.zip file contains valid image data.\n"
          ]
        }
      ]
    },
    {
      "cell_type": "code",
      "source": [
        "import numpy as np\n",
        "from sklearn.model_selection import train_test_split\n",
        "from keras.models import Sequential\n",
        "from keras.layers import Dense, Activation, Flatten, Dropout\n",
        "from keras.layers import Conv2D, MaxPooling2D\n",
        "from keras.callbacks import ModelCheckpoint\n",
        "\n",
        "# Load data and target arrays\n",
        "data = np.load('data.npy')\n",
        "target = np.load('target.npy')\n",
        "\n",
        "# Check the number of classes dynamically\n",
        "num_classes = len(np.unique(target))\n",
        "\n",
        "model = Sequential()\n",
        "# Layer 1\n",
        "model.add(Conv2D(200, (3, 3), input_shape=data.shape[1:]))\n",
        "model.add(Activation('relu'))\n",
        "model.add(MaxPooling2D(pool_size=(2, 2)))\n",
        "# Layer 2\n",
        "model.add(Conv2D(100, (3, 3)))\n",
        "model.add(Activation('relu'))\n",
        "model.add(MaxPooling2D(pool_size=(2, 2)))\n",
        "\n",
        "model.add(Flatten())\n",
        "model.add(Dropout(0.5))\n",
        "\n",
        "model.add(Dense(50, activation='relu'))\n",
        "model.add(Dense(num_classes, activation='softmax'))\n",
        "\n",
        "model.compile(loss='categorical_crossentropy', optimizer='adam', metrics=['accuracy'])\n",
        "\n",
        "# Split data for training and testing\n",
        "train_data, test_data, train_target, test_target = train_test_split(data, target, test_size=0.1)\n",
        "\n",
        "# Checkpoint to save the best model based on validation loss\n",
        "checkpoint = ModelCheckpoint('model-{epoch:03d}.model', monitor='val_loss', verbose=0, save_best_only=True, mode='auto')\n",
        "\n",
        "# Train the model\n",
        "history = model.fit(train_data, train_target, epochs=20, callbacks=[checkpoint], validation_split=0.2)\n",
        "\n",
        "# Evaluate the model on the test data\n",
        "print(model.evaluate(test_data, test_target))\n"
      ],
      "metadata": {
        "colab": {
          "base_uri": "https://localhost:8080/",
          "height": 383
        },
        "id": "ZBf4a4nAe9yr",
        "outputId": "3d269f56-fb3e-47e0-94fd-673ec36d41ac"
      },
      "id": "ZBf4a4nAe9yr",
      "execution_count": 13,
      "outputs": [
        {
          "output_type": "error",
          "ename": "FileNotFoundError",
          "evalue": "ignored",
          "traceback": [
            "\u001b[0;31m---------------------------------------------------------------------------\u001b[0m",
            "\u001b[0;31mFileNotFoundError\u001b[0m                         Traceback (most recent call last)",
            "\u001b[0;32m<ipython-input-13-c6e62b1e3fb1>\u001b[0m in \u001b[0;36m<cell line: 9>\u001b[0;34m()\u001b[0m\n\u001b[1;32m      7\u001b[0m \u001b[0;34m\u001b[0m\u001b[0m\n\u001b[1;32m      8\u001b[0m \u001b[0;31m# Load data and target arrays\u001b[0m\u001b[0;34m\u001b[0m\u001b[0;34m\u001b[0m\u001b[0m\n\u001b[0;32m----> 9\u001b[0;31m \u001b[0mdata\u001b[0m \u001b[0;34m=\u001b[0m \u001b[0mnp\u001b[0m\u001b[0;34m.\u001b[0m\u001b[0mload\u001b[0m\u001b[0;34m(\u001b[0m\u001b[0;34m'data.npy'\u001b[0m\u001b[0;34m)\u001b[0m\u001b[0;34m\u001b[0m\u001b[0;34m\u001b[0m\u001b[0m\n\u001b[0m\u001b[1;32m     10\u001b[0m \u001b[0mtarget\u001b[0m \u001b[0;34m=\u001b[0m \u001b[0mnp\u001b[0m\u001b[0;34m.\u001b[0m\u001b[0mload\u001b[0m\u001b[0;34m(\u001b[0m\u001b[0;34m'target.npy'\u001b[0m\u001b[0;34m)\u001b[0m\u001b[0;34m\u001b[0m\u001b[0;34m\u001b[0m\u001b[0m\n\u001b[1;32m     11\u001b[0m \u001b[0;34m\u001b[0m\u001b[0m\n",
            "\u001b[0;32m/usr/local/lib/python3.10/dist-packages/numpy/lib/npyio.py\u001b[0m in \u001b[0;36mload\u001b[0;34m(file, mmap_mode, allow_pickle, fix_imports, encoding, max_header_size)\u001b[0m\n\u001b[1;32m    403\u001b[0m             \u001b[0mown_fid\u001b[0m \u001b[0;34m=\u001b[0m \u001b[0;32mFalse\u001b[0m\u001b[0;34m\u001b[0m\u001b[0;34m\u001b[0m\u001b[0m\n\u001b[1;32m    404\u001b[0m         \u001b[0;32melse\u001b[0m\u001b[0;34m:\u001b[0m\u001b[0;34m\u001b[0m\u001b[0;34m\u001b[0m\u001b[0m\n\u001b[0;32m--> 405\u001b[0;31m             \u001b[0mfid\u001b[0m \u001b[0;34m=\u001b[0m \u001b[0mstack\u001b[0m\u001b[0;34m.\u001b[0m\u001b[0menter_context\u001b[0m\u001b[0;34m(\u001b[0m\u001b[0mopen\u001b[0m\u001b[0;34m(\u001b[0m\u001b[0mos_fspath\u001b[0m\u001b[0;34m(\u001b[0m\u001b[0mfile\u001b[0m\u001b[0;34m)\u001b[0m\u001b[0;34m,\u001b[0m \u001b[0;34m\"rb\"\u001b[0m\u001b[0;34m)\u001b[0m\u001b[0;34m)\u001b[0m\u001b[0;34m\u001b[0m\u001b[0;34m\u001b[0m\u001b[0m\n\u001b[0m\u001b[1;32m    406\u001b[0m             \u001b[0mown_fid\u001b[0m \u001b[0;34m=\u001b[0m \u001b[0;32mTrue\u001b[0m\u001b[0;34m\u001b[0m\u001b[0;34m\u001b[0m\u001b[0m\n\u001b[1;32m    407\u001b[0m \u001b[0;34m\u001b[0m\u001b[0m\n",
            "\u001b[0;31mFileNotFoundError\u001b[0m: [Errno 2] No such file or directory: 'data.npy'"
          ]
        }
      ]
    }
  ],
  "metadata": {
    "kernelspec": {
      "display_name": "Python 3 (ipykernel)",
      "language": "python",
      "name": "python3"
    },
    "language_info": {
      "codemirror_mode": {
        "name": "ipython",
        "version": 3
      },
      "file_extension": ".py",
      "mimetype": "text/x-python",
      "name": "python",
      "nbconvert_exporter": "python",
      "pygments_lexer": "ipython3",
      "version": "3.10.9"
    },
    "colab": {
      "provenance": []
    }
  },
  "nbformat": 4,
  "nbformat_minor": 5
}